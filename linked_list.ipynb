{
 "cells": [
  {
   "cell_type": "markdown",
   "metadata": {},
   "source": [
    "# Linked List Method Pseudocodes"
   ]
  },
  {
   "cell_type": "markdown",
   "metadata": {},
   "source": [
    "## Insert Beginning"
   ]
  },
  {
   "cell_type": "code",
   "execution_count": null,
   "metadata": {},
   "outputs": [],
   "source": [
    "def insert_beginning(value)\n",
    "    new_node = Node.new(value)\n",
    "    new_node.next_node = @head_node\n",
    "    @head_node = new_node\n",
    "end"
   ]
  },
  {
   "cell_type": "markdown",
   "metadata": {},
   "source": [
    "#### Steps:\n",
    " - Create new node using the argument to the method as the argument for Node.new\n",
    " - Set the new node's next node to be the current instance's head node\n",
    " - Set the current instance's head node to be the new node"
   ]
  },
  {
   "cell_type": "markdown",
   "metadata": {},
   "source": [
    "## Swap Nodes"
   ]
  },
  {
   "cell_type": "code",
   "execution_count": null,
   "metadata": {},
   "outputs": [],
   "source": [
    "def self.swap_nodes(input_list, val1, val2)\n",
    "    node1_prev = nil\n",
    "    node2_prev = nil\n",
    "    node1 = input_list.head_node\n",
    "    node2 = input_list.head_node\n",
    "    if val1 == val2\n",
    "        puts \"Elements are the same. No swap required\"\n",
    "        return\n",
    "    end\n",
    "    while !node1.nil?\n",
    "        if node1.value == val1\n",
    "            break\n",
    "        end\n",
    "        node1_prev = node1\n",
    "        node1 = node1.next_node\n",
    "    end\n",
    "    while !node2.nil?\n",
    "        if node2.value == val2\n",
    "            break\n",
    "        end\n",
    "        node2_prev = node2\n",
    "        node2 = node2.next_node\n",
    "    end\n",
    "    if node1.nil? or node2.nil?\n",
    "        puts \"Swap not possible - one or more elements not in list\"\n",
    "        return\n",
    "    end\n",
    "    if node1_prev.nil?\n",
    "        input_list.head_node = node2\n",
    "    else\n",
    "        node1_prev.next_node = node2\n",
    "    end\n",
    "    if node2_prev.nil?\n",
    "        input_list.head_node = node1\n",
    "    else\n",
    "        node2_prev.next_node = node1\n",
    "    end\n",
    "    temp = node1.next_node\n",
    "    node1.next_node = node2.next_node\n",
    "    node2.next_node = temp\n",
    "end"
   ]
  },
  {
   "cell_type": "markdown",
   "metadata": {},
   "source": []
  },
  {
   "cell_type": "markdown",
   "metadata": {},
   "source": [
    "## Stringify"
   ]
  },
  {
   "cell_type": "code",
   "execution_count": null,
   "metadata": {},
   "outputs": [],
   "source": [
    "def stringify_list\n",
    "    string = \"\"\n",
    "    current = @head_node\n",
    "    while !current.nil?\n",
    "        if current.value != nil\n",
    "            string += (current.value).to_s + \"; \"\n",
    "        end\n",
    "        current = current.next_node\n",
    "    end\n",
    "    return string\n",
    "end"
   ]
  },
  {
   "cell_type": "markdown",
   "metadata": {},
   "source": [
    "### Steps:\n",
    " - Create an empty variable to store the string.\n",
    " - Create a variable for the current node and set it to the instance's head node. \n",
    " - Create a while loop that checks to see if the current variable is empty (None, null, nil, etc.).\n",
    " - Check if the value of the current node is empty.\n",
    "     - If not, add the current value, plus any delimiters, to the string variable (convert data types if needed).\n",
    " - Set the current variable to the current variable's next node. \n",
    " - Return the string variable. "
   ]
  }
 ],
 "metadata": {
  "kernelspec": {
   "display_name": "Ruby 2.6.10",
   "language": "ruby",
   "name": "ruby"
  },
  "language_info": {
   "name": "ruby"
  },
  "orig_nbformat": 4
 },
 "nbformat": 4,
 "nbformat_minor": 2
}
